{
 "cells": [
  {
   "cell_type": "markdown",
   "metadata": {},
   "source": [
    "# Getting Started"
   ]
  },
  {
   "cell_type": "code",
   "execution_count": 13,
   "metadata": {},
   "outputs": [
    {
     "name": "stderr",
     "output_type": "stream",
     "text": [
      "/home/carnd/anaconda3/lib/python3.5/site-packages/IPython/core/interactiveshell.py:2717: DtypeWarning: Columns (7,8) have mixed types. Specify dtype option on import or set low_memory=False.\n",
      "  interactivity=interactivity, compiler=compiler, result=result)\n"
     ]
    }
   ],
   "source": [
    "%matplotlib inline\n",
    "\n",
    "import matplotlib.pyplot as plt\n",
    "import pandas as pd\n",
    "import numpy as np\n",
    "\n",
    "data = pd.read_csv ('flights.csv')"
   ]
  },
  {
   "cell_type": "markdown",
   "metadata": {},
   "source": [
    "# Exploring the Data"
   ]
  },
  {
   "cell_type": "code",
   "execution_count": 2,
   "metadata": {},
   "outputs": [
    {
     "name": "stdout",
     "output_type": "stream",
     "text": [
      "Total number of flights: 5819079\n",
      "Total number of cancelled flights: 89884\n",
      "Total number of nan flights: 15187\n",
      "Total number of unknown-origin flights: 482878\n",
      "Total number of unknown-destination flights: 0\n",
      "Total number of final flights: 5231130\n"
     ]
    }
   ],
   "source": [
    "print ('Total number of flights:', data.shape[0])\n",
    "\n",
    "# Remove CANCELLED flights\n",
    "df = data[data['CANCELLED'] == 0]\n",
    "print ('Total number of cancelled flights:', data.shape[0] - df.shape[0])\n",
    "\n",
    "# Remove nan ARRIVAL_DELAY flights\n",
    "index = list (df.index.values)\n",
    "drop_loc = []\n",
    "for i, delay in enumerate (df['ARRIVAL_DELAY']) :\n",
    "    if np.isnan (delay) :\n",
    "        drop_loc.append (index[i])\n",
    "df = df.drop (drop_loc)\n",
    "print ('Total number of nan flights:', len (drop_loc))\n",
    "\n",
    "# Remove unkonwn ORIGIN_AIRPORT\n",
    "index = list (df.index.values)\n",
    "drop_loc = []\n",
    "for i, airport in enumerate (df['ORIGIN_AIRPORT']) :\n",
    "    if len (str (airport)) != 3 :\n",
    "        drop_loc.append (index[i])\n",
    "df = df.drop (drop_loc)\n",
    "print ('Total number of unknown-origin flights:', len (drop_loc))\n",
    "\n",
    "# Remove unkonwn DESTINATION_AIRPORT\n",
    "index = list (df.index.values)\n",
    "drop_loc = []\n",
    "for i, airport in enumerate (df['DESTINATION_AIRPORT']) :\n",
    "    if len (str (airport)) != 3 :\n",
    "        drop_loc.append (index[i])\n",
    "df = df.drop (drop_loc)\n",
    "print ('Total number of unknown-destination flights:', len (drop_loc))\n",
    "\n",
    "# Calculate final size\n",
    "print ('Total number of final flights:', df.shape[0])"
   ]
  },
  {
   "cell_type": "code",
   "execution_count": 3,
   "metadata": {},
   "outputs": [
    {
     "name": "stdout",
     "output_type": "stream",
     "text": [
      "\n",
      "Statistics for delays:\n",
      "\n",
      "Minimum delay: -87.00 minutes\n",
      "Maximum delay: 1,971.00 minutes\n",
      "Mean delay: 4.89 minutes\n",
      "Standard deviation of delay: 39.79 minutes\n"
     ]
    }
   ],
   "source": [
    "delays = np.array (df['ARRIVAL_DELAY'])\n",
    "\n",
    "minimum_delay = np.min (delays)\n",
    "maximum_delay = np.max (delays)\n",
    "mean_delay = np.mean (delays)\n",
    "std_delay = np.std (delays)\n",
    "\n",
    "print ('\\nStatistics for delays:\\n')\n",
    "print ('Minimum delay: {:,.2f} minutes'.format (minimum_delay))\n",
    "print ('Maximum delay: {:,.2f} minutes'.format (maximum_delay))\n",
    "print ('Mean delay: {:,.2f} minutes'.format (mean_delay))\n",
    "print ('Standard deviation of delay: {:,.2f} minutes'.format (std_delay))"
   ]
  },
  {
   "cell_type": "code",
   "execution_count": 44,
   "metadata": {},
   "outputs": [
    {
     "data": {
      "image/png": "[encoded data removed]",
      "text/plain": [
       "<matplotlib.figure.Figure at 0x7f4240589cf8>"
      ]
     },
     "metadata": {},
     "output_type": "display_data"
    }
   ],
   "source": [
    "plt.hist (delays, bins=40, range=(-80, 200))\n",
    "plt.xlabel ('Delays (minutes)')\n",
    "plt.ylabel ('The number of flights')\n",
    "plt.title ('Histogram of delay information')\n",
    "plt.show ()"
   ]
  },
  {
   "cell_type": "markdown",
   "metadata": {},
   "source": [
    "# Preparing the Data"
   ]
  },
  {
   "cell_type": "code",
   "execution_count": 4,
   "metadata": {
    "scrolled": true
   },
   "outputs": [
    {
     "name": "stdout",
     "output_type": "stream",
     "text": [
      "The number of features after one-hot encoding: 11\n"
     ]
    }
   ],
   "source": [
    "focused_features = ['MONTH', 'DAY', 'DAY_OF_WEEK', 'AIRLINE', 'FLIGHT_NUMBER', 'ORIGIN_AIRPORT', 'DESTINATION_AIRPORT', 'SCHEDULED_DEPARTURE',\n",
    "                    'SCHEDULED_TIME', 'DISTANCE', 'SCHEDULED_ARRIVAL']\n",
    "features = np.array (df[focused_features[0]]).reshape ((-1, 1))\n",
    "\n",
    "from sklearn.preprocessing import LabelEncoder\n",
    "\n",
    "encoded_features = ['AIRLINE', 'ORIGIN_AIRPORT', 'DESTINATION_AIRPORT']\n",
    "for name in focused_features[1:] :\n",
    "    if name in encoded_features :\n",
    "        enc = LabelEncoder ()\n",
    "        temp = enc.fit_transform (df[name]).reshape ((-1, 1))\n",
    "    else :\n",
    "        temp = np.array (df[name]).reshape ((-1, 1))\n",
    "    features = np.hstack ([features, temp])\n",
    "\n",
    "print ('The number of features after one-hot encoding:', features.shape[1])"
   ]
  },
  {
   "cell_type": "code",
   "execution_count": 5,
   "metadata": {},
   "outputs": [
    {
     "name": "stdout",
     "output_type": "stream",
     "text": [
      "The number of training set: 4184904\n",
      "The number of testing set: 1046226\n"
     ]
    }
   ],
   "source": [
    "from sklearn.model_selection import train_test_split\n",
    "\n",
    "features_train, features_test, delays_train, delays_test = train_test_split (features, delays, test_size=0.2, random_state=0)\n",
    "\n",
    "print ('The number of training set:', features_train.shape[0])\n",
    "print ('The number of testing set:', features_test.shape[0])"
   ]
  },
  {
   "cell_type": "markdown",
   "metadata": {},
   "source": [
    "# Developing a Benchmark Model"
   ]
  },
  {
   "cell_type": "code",
   "execution_count": 23,
   "metadata": {},
   "outputs": [
    {
     "name": "stdout",
     "output_type": "stream",
     "text": [
      "Average delays: 4.88476724914\n"
     ]
    }
   ],
   "source": [
    "avg_delays = np.mean (delays_train)\n",
    "\n",
    "print ('Average delays:', avg_delays)"
   ]
  },
  {
   "cell_type": "markdown",
   "metadata": {},
   "source": [
    "# Developing a Solution Model"
   ]
  },
  {
   "cell_type": "code",
   "execution_count": 7,
   "metadata": {},
   "outputs": [
    {
     "name": "stdout",
     "output_type": "stream",
     "text": [
      "Start training KNN Regressor...\n",
      "Finish training KNN Regressor! Elapsed Ttime = 01:13:48\n"
     ]
    }
   ],
   "source": [
    "from sklearn.model_selection import GridSearchCV\n",
    "from sklearn.neighbors import KNeighborsRegressor\n",
    "import time\n",
    "\n",
    "print ('Start training KNN Regressor...')\n",
    "start_time = time.time ()\n",
    "neigh = KNeighborsRegressor ()\n",
    "params = { 'n_neighbors': [1, 5, 10, 20, 50, 100] }\n",
    "clf = GridSearchCV (neigh, params, scoring='neg_mean_absolute_error')\n",
    "clf.fit (features_train, delays_train)\n",
    "elapsed_time = time.time() - start_time\n",
    "print ('Finish training KNN Regressor! Elapsed Ttime =', time.strftime(\"%H:%M:%S\", time.gmtime (elapsed_time)))"
   ]
  },
  {
   "cell_type": "code",
   "execution_count": 9,
   "metadata": {},
   "outputs": [
    {
     "data": {
      "text/plain": [
       "100"
      ]
     },
     "execution_count": 9,
     "metadata": {},
     "output_type": "execute_result"
    }
   ],
   "source": [
    "clf.best_params_['n_neighbors']"
   ]
  },
  {
   "cell_type": "markdown",
   "metadata": {},
   "source": [
    "# Evaluating Model Performance"
   ]
  },
  {
   "cell_type": "code",
   "execution_count": 48,
   "metadata": {},
   "outputs": [
    {
     "name": "stdout",
     "output_type": "stream",
     "text": [
      "MAD of Naive algorithm: 21.7003895011\n",
      "MAD of KNN Regressor: 21.120765284\n"
     ]
    }
   ],
   "source": [
    "from sklearn.metrics import mean_absolute_error\n",
    "\n",
    "delays_pred = [avg_delays for _ in range (len (delays_test))]\n",
    "naive_score = mean_absolute_error (delays_test, delays_pred)\n",
    "print ('MAD of Naive algorithm:', naive_score)\n",
    "\n",
    "delays_pred = clf.predict (features_test)\n",
    "knn_score = mean_absolute_error (delays_test, delays_pred)\n",
    "print ('MAD of KNN Regressor:', knn_score)"
   ]
  },
  {
   "cell_type": "code",
   "execution_count": 60,
   "metadata": {},
   "outputs": [
    {
     "data": {
      "image/png": "[encoded data removed]",
      "text/plain": [
       "<matplotlib.figure.Figure at 0x7f42403ad320>"
      ]
     },
     "metadata": {},
     "output_type": "display_data"
    }
   ],
   "source": [
    "plt.hist (delays_pred, bins=40, range=(-20, 40))\n",
    "plt.xlabel ('Delays (minutes)')\n",
    "plt.ylabel ('The number of flights')\n",
    "plt.title ('Histogram of predicted delay information')\n",
    "plt.show ()"
   ]
  },
  {
   "cell_type": "code",
   "execution_count": 59,
   "metadata": {},
   "outputs": [
    {
     "data": {
      "image/png": "[encoded data removed]",
      "text/plain": [
       "<matplotlib.figure.Figure at 0x7f42403ada20>"
      ]
     },
     "metadata": {},
     "output_type": "display_data"
    }
   ],
   "source": [
    "deviation = np.absolute (delays_test - delays_pred)\n",
    "\n",
    "plt.hist (deviation, bins=80, range=(0, 150))\n",
    "plt.xlabel ('The difference of delays (minutes)')\n",
    "plt.ylabel ('The number of flights')\n",
    "plt.title ('Histogram of the difference between the actual and predicted delays')\n",
    "plt.show ()"
   ]
  }
 ],
 "metadata": {
  "anaconda-cloud": {},
  "kernelspec": {
   "display_name": "Python [default]",
   "language": "python",
   "name": "python3"
  },
  "language_info": {
   "codemirror_mode": {
    "name": "ipython",
    "version": 3
   },
   "file_extension": ".py",
   "mimetype": "text/x-python",
   "name": "python",
   "nbconvert_exporter": "python",
   "pygments_lexer": "ipython3",
   "version": "3.5.3"
  }
 },
 "nbformat": 4,
 "nbformat_minor": 2
}
